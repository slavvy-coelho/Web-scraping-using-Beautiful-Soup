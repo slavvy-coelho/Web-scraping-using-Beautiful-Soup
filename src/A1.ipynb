{
 "cells": [
  {
   "cell_type": "markdown",
   "metadata": {},
   "source": [
    "# Assignment 1: Web Scraping"
   ]
  },
  {
   "cell_type": "markdown",
   "metadata": {},
   "source": [
    "## Objective"
   ]
  },
  {
   "cell_type": "markdown",
   "metadata": {},
   "source": [
    "Data scientists often need to crawl data from websites and turn the crawled data (HTML pages) to structured data (tables). Thus, web scraping is an essential skill that every data scientist should master. In this assignment, you will learn the followings:\n",
    "\n",
    "\n",
    "* How to download HTML pages from a website?\n",
    "* How to extract relevant content from an HTML page? \n",
    "\n",
    "Furthermore, you will gain a deeper understanding of the data science lifecycle.\n",
    "\n",
    "**Requirements:**\n",
    "\n",
    "1. Please use [pandas.DataFrame](http://pandas.pydata.org/pandas-docs/stable/generated/pandas.DataFrame.html) rather than spark.DataFrame to manipulate data.\n",
    "\n",
    "2. Please use [BeautifulSoup](https://www.crummy.com/software/BeautifulSoup/) rather than [lxml](http://lxml.de/) to parse an HTML page and extract data from the page.\n",
    "\n",
    "3. Please follow python code style (https://www.python.org/dev/peps/pep-0008/). If TA finds your code hard to read, you will lose points. This requirement will stay for the whole semester."
   ]
  },
  {
   "cell_type": "markdown",
   "metadata": {},
   "source": [
    "## Preliminary"
   ]
  },
  {
   "cell_type": "markdown",
   "metadata": {},
   "source": [
    "If this is your first time to write a web scraper, you need to learn some basic knowledge of this topic. I found that this is a good resource: [Tutorial: Web Scraping and BeautifulSoup](https://www.dataquest.io/blog/web-scraping-beautifulsoup/). \n",
    "\n",
    "Please let me know if you find a better resource. I'll share it with the other students."
   ]
  },
  {
   "cell_type": "markdown",
   "metadata": {},
   "source": [
    "## Overview"
   ]
  },
  {
   "cell_type": "markdown",
   "metadata": {},
   "source": [
    "Imagine you are a data scientist working at SFU. Your job is to extract insights from SFU data to answer questions. \n",
    "\n",
    "In this assignment, you will do two tasks. Please recall the high-level data science lifecycle below. I suggest that when doing this assignment, please remind yourself of what data you collected and what questions you tried to answer.\n",
    "\n",
    "\n",
    "<img src=\"lifecycle.png\" width=\"500\">\n",
    "<center><h4>Figure 1. Data Science Lifecycle</h4></center>"
   ]
  },
  {
   "cell_type": "markdown",
   "metadata": {},
   "source": [
    "## Task 1: SFU CS Faculty Members"
   ]
  },
  {
   "cell_type": "markdown",
   "metadata": {},
   "source": [
    "Sometimes you don't know what questions to ask. No worries. Start collecting data first. \n",
    "\n",
    "In Task 1, your job is to write a web scraper to extract the faculty information from this page: [https://www.sfu.ca/computing/people/faculty.html](https://www.sfu.ca/computing/people/faculty.html).\n",
    "\n",
    "\n"
   ]
  },
  {
   "cell_type": "markdown",
   "metadata": {},
   "source": [
    "### (a) Crawl Web Page"
   ]
  },
  {
   "cell_type": "markdown",
   "metadata": {},
   "source": [
    "A web page is essentially a file stored in a remote machine (called web server). Please write code to download the HTML page and save it as a text file (\"csfaculty.html\")."
   ]
  },
  {
   "cell_type": "code",
   "execution_count": 1,
   "metadata": {},
   "outputs": [],
   "source": [
    "#Task 1: Crawl web page\n",
    "#a) download the HTML page and save it as a text file\n",
    "#******************************************************************************\n",
    "\n",
    "import requests\n",
    "from bs4 import BeautifulSoup as bs\n",
    "import pandas as pd\n",
    "\n",
    "url = \"https://www.sfu.ca/computing/people/faculty.html\"\n",
    "response = requests.get(url)\n",
    "\n",
    "file = open(\"csfaculty.html\", \"w\")\n",
    "file.write(response.text)\n",
    "file.close()"
   ]
  },
  {
   "cell_type": "markdown",
   "metadata": {},
   "source": [
    "### (b) Extract Structured Data"
   ]
  },
  {
   "cell_type": "markdown",
   "metadata": {},
   "source": [
    "Please write code to extract relevant content (name, rank, area, profile, homepage) from \"csfaculty.html\" and save them as a CSV file (like [faculty_table.csv](./faculty_table.csv)). "
   ]
  },
  {
   "cell_type": "code",
   "execution_count": 2,
   "metadata": {},
   "outputs": [
    {
     "name": "stdout",
     "output_type": "stream",
     "text": [
      "end\n"
     ]
    }
   ],
   "source": [
    "#Task 1: Extract Structured Data\n",
    "#b) Extract relevant content from \"csfaculty.html\" and save them as a CSV file \n",
    "#******************************************************************************\n",
    "\n",
    "f = open(\"csfaculty.html\", \"r\")\n",
    "soup = bs(f, 'html.parser')      #converting to a soup object\n",
    "\n",
    "name_rank, pro_hom = [], []\n",
    "prof_names, prof_ranks, prof_interest = [], [], []\n",
    "prof_profiles, prof_home = [], []\n",
    "\n",
    "for item in soup.find_all(\"div\", class_=\"text\" ):   \n",
    "    \n",
    "    #***************Name, rank*********************\n",
    "    for h4 in item.find_all('h4'):\n",
    "        if h4.text == '\\xa0':\n",
    "            pass\n",
    "        else:\n",
    "            name_rank = h4.text.split(',')\n",
    "            if 'director' in str(name_rank[0]).lower():\n",
    "                pass\n",
    "            else:\n",
    "                prof_names.append(name_rank[0])                \n",
    "                clean_ranks = str(name_rank[1]).replace('\\n', '').replace('\\xa0','')\n",
    "                prof_ranks.append(clean_ranks)\n",
    "                \n",
    "    #*******************Area**************************\n",
    "    for p in item.find_all('p'):\n",
    "        line = p.text \n",
    "        if 'Area' in line:\n",
    "            prof_interest.append(line.split(\"Area:\")[1].replace('\\n', '').replace('\\xa0',''))\n",
    "    \n",
    "    #*******************Profile***********************   \n",
    "    for link in item('a'):\n",
    "        str_link = str(link.get('href'))\n",
    "        if \"people/faculty\" in str_link and 'author' not in str_link:\n",
    "            if str_link.startswith('http:'):\n",
    "                prof_profiles.append(str_link)\n",
    "            else:\n",
    "                link1 = \"http://www.sfu.ca\" + str_link   #getting the link in openable format\n",
    "                prof_profiles.append(link1)\n",
    "        prof_profiles = list(dict.fromkeys(prof_profiles))\n",
    "        \n",
    "                \n",
    "    #*******************Homepage********************** \n",
    "    a4=[]\n",
    "    for t in item('a'):\n",
    "        a4.append(t.get('href'))  \n",
    "    if (len(a4)  <= 3):\n",
    "        pro_hom.append(a4)\n",
    "\n",
    "for x in pro_hom:\n",
    "    if len(x) == 1:\n",
    "        prof_home.append(' ')\n",
    "    elif len(x) == 2:\n",
    "        prof_home.append(x[1])\n",
    "    elif len(x) == 3:\n",
    "        prof_home.append(x[2])\n",
    "        \n",
    "    #*******************special cases****************\n",
    "prof_interest.insert(20, 'COMPUTATIONAL LINGUISTICS AND LOGIC PROGRAMMING')\n",
    "prof_ranks[20] = 'Professor'\n",
    "prof_names.pop(64), prof_ranks.pop(64), prof_home.pop(64)\n",
    "\n",
    "    #*******************to dataframe and csv*********\n",
    "df = pd.DataFrame({\"Name\": prof_names, \"Rank\": prof_ranks, \"Area\": prof_interest, \"Profile\": prof_profiles, \"Homepage\": prof_home})\n",
    "df.to_csv(\"faculty_table.csv\", index = False)\n",
    "print(\"end\")"
   ]
  },
  {
   "cell_type": "markdown",
   "metadata": {},
   "source": [
    "### (c) Interesting Finding"
   ]
  },
  {
   "cell_type": "markdown",
   "metadata": {},
   "source": [
    "Note that you don't need to do anything for Task 1(c). The purpose of this part is to give you some sense about how to leverage exploratory data analysis (EDA) to come up with interesting questions about the data. EDA is an important topic in data science; you will  learn it soon from this course. \n",
    "\n",
    "\n",
    "First, please install [dataprep](http://dataprep.ai).\n",
    "Then, run the cell below. \n",
    "It shows a bar chart for every column. What intersting findings can you get from these visualizations? "
   ]
  },
  {
   "cell_type": "code",
   "execution_count": 3,
   "metadata": {},
   "outputs": [
    {
     "ename": "ModuleNotFoundError",
     "evalue": "No module named 'dataprep'",
     "output_type": "error",
     "traceback": [
      "\u001b[0;31m---------------------------------------------------------------------------\u001b[0m",
      "\u001b[0;31mModuleNotFoundError\u001b[0m                       Traceback (most recent call last)",
      "\u001b[0;32m<ipython-input-3-417ba8b9c227>\u001b[0m in \u001b[0;36m<module>\u001b[0;34m\u001b[0m\n\u001b[0;32m----> 1\u001b[0;31m \u001b[0;32mfrom\u001b[0m \u001b[0mdataprep\u001b[0m\u001b[0;34m.\u001b[0m\u001b[0meda\u001b[0m \u001b[0;32mimport\u001b[0m \u001b[0mplot\u001b[0m\u001b[0;34m\u001b[0m\u001b[0;34m\u001b[0m\u001b[0m\n\u001b[0m\u001b[1;32m      2\u001b[0m \u001b[0;32mimport\u001b[0m \u001b[0mpandas\u001b[0m \u001b[0;32mas\u001b[0m \u001b[0mpd\u001b[0m\u001b[0;34m\u001b[0m\u001b[0;34m\u001b[0m\u001b[0m\n\u001b[1;32m      3\u001b[0m \u001b[0;34m\u001b[0m\u001b[0m\n\u001b[1;32m      4\u001b[0m \u001b[0mdf\u001b[0m \u001b[0;34m=\u001b[0m \u001b[0mpd\u001b[0m\u001b[0;34m.\u001b[0m\u001b[0mread_csv\u001b[0m\u001b[0;34m(\u001b[0m\u001b[0;34m\"faculty_table.csv\"\u001b[0m\u001b[0;34m)\u001b[0m\u001b[0;34m\u001b[0m\u001b[0;34m\u001b[0m\u001b[0m\n\u001b[1;32m      5\u001b[0m \u001b[0mplot\u001b[0m\u001b[0;34m(\u001b[0m\u001b[0mdf\u001b[0m\u001b[0;34m)\u001b[0m\u001b[0;34m\u001b[0m\u001b[0;34m\u001b[0m\u001b[0m\n",
      "\u001b[0;31mModuleNotFoundError\u001b[0m: No module named 'dataprep'"
     ]
    }
   ],
   "source": [
    "from dataprep.eda import plot\n",
    "import pandas as pd\n",
    "\n",
    "df = pd.read_csv(\"faculty_table.csv\")\n",
    "plot(df)"
   ]
  },
  {
   "cell_type": "markdown",
   "metadata": {},
   "source": [
    "Below are some examples:\n",
    "\n",
    "**Finding 1:** Professor# (29) is more than 3x larger than Associate Professor# (9). \n",
    "\n",
    "**Questions:** Why did it happen? Is it common in all CS schools in Canada? Will the gap go larger or smaller in five years? What actions can be taken to enlarge/shrink the gap?\n",
    "\n",
    "\n",
    "**Finding 2:** Homepage has 20.3% missing values. \n",
    "\n",
    "**Questions:** Why are there so many missing values? Is it because many faculty do not have their own homepages or do not add their homepages to the school page? What actions can be taken to avoid this to happen in the future? "
   ]
  },
  {
   "cell_type": "markdown",
   "metadata": {},
   "source": [
    "## Task 2: Age Follows Normal Distribution?"
   ]
  },
  {
   "cell_type": "markdown",
   "metadata": {},
   "source": [
    "In this task, you start with a question and then figure out what data to collect.\n",
    "\n",
    "The question that you are intersted in is `Does SFU CS faculty age follow a normal distribution?`\n",
    "\n",
    "To estimate the age of a faculty member, you can collect the year in which s/he graduates from a university (`gradyear`) and then estimate `age` using the following equation:\n",
    "\n",
    "$$age \\approx 2020+23 - gradyear$$\n",
    "\n",
    "For example, if one graduates from a university in 1990, then the age is estimated as 2020+23-1990 = 53. \n",
    "\n"
   ]
  },
  {
   "cell_type": "markdown",
   "metadata": {},
   "source": [
    "### (a) Crawl Web Page"
   ]
  },
  {
   "cell_type": "markdown",
   "metadata": {},
   "source": [
    "You notice that faculty profile pages contain graduation information. For example, you can see that Dr. Jiannan Wang graduated from Harbin Institute of Technology in 2008 at [http://www.sfu.ca/computing/people/faculty/jiannanwang.html](http://www.sfu.ca/computing/people/faculty/jiannanwang.html). \n",
    "\n",
    "\n",
    "Please write code to download the 64 profile pages and save each page as a text file. "
   ]
  },
  {
   "cell_type": "code",
   "execution_count": 4,
   "metadata": {},
   "outputs": [
    {
     "name": "stdout",
     "output_type": "stream",
     "text": [
      "end\n"
     ]
    }
   ],
   "source": [
    "#Task 2: Crawling Web Page\n",
    "#a) Code to download the 64 profile pages and save each page as a text file\n",
    "#******************************************************************************\n",
    "\n",
    "for i in range(0,len(prof_profiles)):\n",
    "    pages = requests.get(prof_profiles[i]) #fetching contents from the list of profiles (list prof_profiles from previous cell)\n",
    "    to_text = pages.text\n",
    "    file = open(str(i+1) + \"_profile.txt\",\"w\", encoding='utf-8') #naming the files as '#_profile.txt'\n",
    "    file.write(to_text)\n",
    "    file.close()\n",
    "\n",
    "print(\"end\")"
   ]
  },
  {
   "cell_type": "markdown",
   "metadata": {},
   "source": [
    "### (b) Extract Structured Data"
   ]
  },
  {
   "cell_type": "markdown",
   "metadata": {},
   "source": [
    "Please write code to extract the earliest graduation year (e.g., 2008 for Dr. Jiannan Wang) from each profile page, and create a csv file like [faculty_grad_year.csv](./faculty_grad_year.csv). "
   ]
  },
  {
   "cell_type": "code",
   "execution_count": 5,
   "metadata": {},
   "outputs": [
    {
     "name": "stdout",
     "output_type": "stream",
     "text": [
      "end\n"
     ]
    }
   ],
   "source": [
    "#Task 2: Extract Structured Data\n",
    "#b) Code to extract the earliest graduation year from each profile page, and create a csv\n",
    "#******************************************************************************\n",
    "\n",
    "from urllib.request import urlopen\n",
    "import re\n",
    "\n",
    "result = []\n",
    "nf = \"Not found\"\n",
    "for i in range(0,len(prof_profiles)):\n",
    "    html = urlopen(prof_profiles[i])\n",
    "    soup = bs(html, 'html.parser') #converting object (url link) to type \"soup\"\n",
    "    \n",
    "    for item in soup.find_all(\"div\", class_=\"text parbase section\" ):   \n",
    "        if(item.h2):\n",
    "            if(\"Education\" in (item.h2.text)):\n",
    "                if(item.find('ul')):\n",
    "                    tag_contents = str(item.h2.find_next(\"ul\").text)\n",
    "                    nf = tag_contents\n",
    "                else:\n",
    "                    tag_contents = str(item.h2.find_next(\"p\").text)\n",
    "                    nf = tag_contents\n",
    "            else: \n",
    "                for x in item.find_all('p'):\n",
    "                    nf += x.text\n",
    "\n",
    "    list_years = re.findall('[1-9][0-9][0-9][0-9]', nf)   #extracting all the years from the string \n",
    "    list_years = [ int(x) for x in list_years ]  #convert each element of list to integer\n",
    "    list_years.sort()\n",
    "    \n",
    "    if len(list_years) > 0:\n",
    "        result.append(list_years[0])\n",
    "    else:\n",
    "        result.append('')\n",
    "\n",
    "df = pd.DataFrame({\"Name\": prof_names, \"Gradyear\": result})\n",
    "df.to_csv(\"faculty_grad_year.csv\", index = False)\n",
    "print(\"end\")"
   ]
  },
  {
   "cell_type": "markdown",
   "metadata": {},
   "source": [
    "### (c) Interesting Finding"
   ]
  },
  {
   "cell_type": "markdown",
   "metadata": {},
   "source": [
    "Similar to Task 1(c), you don't need to do anything here. Just look at different visualizations w.r.t. age and give yourself an answer to the question: `Does SFU CS faculty age follow a normal distribution?`"
   ]
  },
  {
   "cell_type": "code",
   "execution_count": 10,
   "metadata": {
    "scrolled": true
   },
   "outputs": [
    {
     "data": {
      "text/html": [
       "\n",
       "\n",
       "\n",
       "\n",
       "\n",
       "\n",
       "  <div class=\"bk-root\" id=\"c6f2d21d-12c9-4f4a-9960-fc9e364cbc6b\" data-root-id=\"2007\"></div>\n"
      ]
     },
     "metadata": {},
     "output_type": "display_data"
    },
    {
     "data": {
      "application/javascript": [
       "(function(root) {\n",
       "  function embed_document(root) {\n",
       "    \n",
       "  var docs_json = {\"1c863add-e0e8-4009-9695-7ff6cb24624b\":{\"roots\":{\"references\":[{\"attributes\":{\"callback\":null,\"tabs\":[{\"id\":\"1869\",\"type\":\"Panel\"},{\"id\":\"1909\",\"type\":\"Panel\"},{\"id\":\"1944\",\"type\":\"Panel\"},{\"id\":\"2006\",\"type\":\"Panel\"}]},\"id\":\"2007\",\"type\":\"Tabs\"},{\"attributes\":{\"dimension\":1,\"grid_line_color\":null,\"ticker\":{\"id\":\"1927\",\"type\":\"BasicTicker\"}},\"id\":\"1930\",\"type\":\"Grid\"},{\"attributes\":{\"line_alpha\":0.1,\"line_color\":\"#1f77b4\",\"line_width\":2,\"x\":{\"field\":\"x\"},\"y\":{\"field\":\"y\"}},\"id\":\"1901\",\"type\":\"Line\"},{\"attributes\":{},\"id\":\"2102\",\"type\":\"UnionRenderers\"},{\"attributes\":{\"callback\":null},\"id\":\"1950\",\"type\":\"DataRange1d\"},{\"attributes\":{\"callback\":null,\"data\":{\"x\":{\"__ndarray__\":\"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\",\"dtype\":\"float64\",\"shape\":[1000]},\"y\":{\"__ndarray__\":\"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\",\"dtype\":\"float64\",\"shape\":[1000]}},\"selected\":{\"id\":\"2089\",\"type\":\"Selection\"},\"selection_policy\":{\"id\":\"2090\",\"type\":\"UnionRenderers\"}},\"id\":\"1899\",\"type\":\"ColumnDataSource\"},{\"attributes\":{},\"id\":\"1957\",\"type\":\"CategoricalTicker\"},{\"attributes\":{},\"id\":\"2103\",\"type\":\"Selection\"},{\"attributes\":{},\"id\":\"2104\",\"type\":\"UnionRenderers\"},{\"attributes\":{},\"id\":\"2105\",\"type\":\"Selection\"},{\"attributes\":{\"callback\":null,\"data\":{\"grp\":[\"age\"],\"index\":[0],\"lw\":[26.0],\"otlrs\":[[]],\"q1\":[38.25],\"q2\":[48.5],\"q3\":[58.5],\"uw\":[73.0],\"x\":[1],\"x0\":[0.19999999999999996],\"x1\":[0.8]},\"selected\":{\"id\":\"2095\",\"type\":\"Selection\"},\"selection_policy\":{\"id\":\"2096\",\"type\":\"UnionRenderers\"}},\"id\":\"1966\",\"type\":\"ColumnDataSource\"},{\"attributes\":{},\"id\":\"2106\",\"type\":\"UnionRenderers\"},{\"attributes\":{\"dimension\":1,\"grid_line_color\":null,\"ticker\":{\"id\":\"1854\",\"type\":\"BasicTicker\"}},\"id\":\"1857\",\"type\":\"Grid\"},{\"attributes\":{},\"id\":\"1922\",\"type\":\"BasicTicker\"},{\"attributes\":{},\"id\":\"1952\",\"type\":\"CategoricalScale\"},{\"attributes\":{\"below\":[{\"id\":\"1956\",\"type\":\"CategoricalAxis\"}],\"center\":[{\"id\":\"1959\",\"type\":\"Grid\"},{\"id\":\"1964\",\"type\":\"Grid\"}],\"left\":[{\"id\":\"1960\",\"type\":\"LinearAxis\"}],\"plot_height\":400,\"plot_width\":450,\"renderers\":[{\"id\":\"1970\",\"type\":\"GlyphRenderer\"},{\"id\":\"1976\",\"type\":\"GlyphRenderer\"},{\"id\":\"1982\",\"type\":\"GlyphRenderer\"},{\"id\":\"1988\",\"type\":\"GlyphRenderer\"},{\"id\":\"1994\",\"type\":\"GlyphRenderer\"},{\"id\":\"2000\",\"type\":\"GlyphRenderer\"}],\"title\":{\"id\":\"1946\",\"type\":\"Title\"},\"toolbar\":{\"id\":\"1965\",\"type\":\"Toolbar\"},\"toolbar_location\":null,\"x_range\":{\"id\":\"1948\",\"type\":\"FactorRange\"},\"x_scale\":{\"id\":\"1952\",\"type\":\"CategoricalScale\"},\"y_range\":{\"id\":\"1950\",\"type\":\"DataRange1d\"},\"y_scale\":{\"id\":\"1954\",\"type\":\"LinearScale\"}},\"id\":\"1945\",\"subtype\":\"Figure\",\"type\":\"Plot\"},{\"attributes\":{\"axis_label\":\"Normal Quantiles\",\"formatter\":{\"id\":\"2078\",\"type\":\"BasicTickFormatter\"},\"major_label_orientation\":1.0471975511965976,\"major_label_text_font_size\":{\"value\":\"9pt\"},\"minor_tick_line_color\":{\"value\":null},\"ticker\":{\"id\":\"1922\",\"type\":\"BasicTicker\"}},\"id\":\"1921\",\"type\":\"LinearAxis\"},{\"attributes\":{},\"id\":\"1854\",\"type\":\"BasicTicker\"},{\"attributes\":{\"source\":{\"id\":\"1939\",\"type\":\"ColumnDataSource\"}},\"id\":\"1943\",\"type\":\"CDSView\"},{\"attributes\":{\"child\":{\"id\":\"1910\",\"subtype\":\"Figure\",\"type\":\"Plot\"},\"title\":\"QQ normal plot\"},\"id\":\"1944\",\"type\":\"Panel\"},{\"attributes\":{\"text\":\"age\",\"text_font_size\":{\"value\":\"10pt\"}},\"id\":\"1911\",\"type\":\"Title\"},{\"attributes\":{\"source\":{\"id\":\"1934\",\"type\":\"ColumnDataSource\"}},\"id\":\"1938\",\"type\":\"CDSView\"},{\"attributes\":{\"line_alpha\":0.1,\"line_color\":\"#1f77b4\",\"x\":{\"field\":\"x\"},\"y\":{\"field\":\"y\"}},\"id\":\"1941\",\"type\":\"Line\"},{\"attributes\":{\"grid_line_color\":null,\"ticker\":{\"id\":\"1849\",\"type\":\"BasicTicker\"}},\"id\":\"1852\",\"type\":\"Grid\"},{\"attributes\":{\"data_source\":{\"id\":\"1939\",\"type\":\"ColumnDataSource\"},\"glyph\":{\"id\":\"1940\",\"type\":\"Line\"},\"hover_glyph\":null,\"muted_glyph\":null,\"nonselection_glyph\":{\"id\":\"1941\",\"type\":\"Line\"},\"selection_glyph\":null,\"view\":{\"id\":\"1943\",\"type\":\"CDSView\"}},\"id\":\"1942\",\"type\":\"GlyphRenderer\"},{\"attributes\":{},\"id\":\"1844\",\"type\":\"LinearScale\"},{\"attributes\":{\"data_source\":{\"id\":\"1899\",\"type\":\"ColumnDataSource\"},\"glyph\":{\"id\":\"1900\",\"type\":\"Line\"},\"hover_glyph\":null,\"muted_glyph\":null,\"nonselection_glyph\":{\"id\":\"1901\",\"type\":\"Line\"},\"selection_glyph\":null,\"view\":{\"id\":\"1903\",\"type\":\"CDSView\"}},\"id\":\"1902\",\"type\":\"GlyphRenderer\"},{\"attributes\":{},\"id\":\"1919\",\"type\":\"LinearScale\"},{\"attributes\":{},\"id\":\"1917\",\"type\":\"LinearScale\"},{\"attributes\":{\"text\":\"age\",\"text_font_size\":{\"value\":\"10pt\"}},\"id\":\"1946\",\"type\":\"Title\"},{\"attributes\":{\"source\":{\"id\":\"1899\",\"type\":\"ColumnDataSource\"}},\"id\":\"1903\",\"type\":\"CDSView\"},{\"attributes\":{\"callback\":null},\"id\":\"1915\",\"type\":\"DataRange1d\"},{\"attributes\":{\"callback\":null,\"data\":{\"x\":[19.621850379454465,77.18460123344877],\"y\":[19.621850379454465,77.18460123344877]},\"selected\":{\"id\":\"2093\",\"type\":\"Selection\"},\"selection_policy\":{\"id\":\"2094\",\"type\":\"UnionRenderers\"}},\"id\":\"1939\",\"type\":\"ColumnDataSource\"},{\"attributes\":{\"data_source\":{\"id\":\"1934\",\"type\":\"ColumnDataSource\"},\"glyph\":{\"id\":\"1935\",\"type\":\"Circle\"},\"hover_glyph\":null,\"muted_glyph\":null,\"nonselection_glyph\":{\"id\":\"1936\",\"type\":\"Circle\"},\"selection_glyph\":null,\"view\":{\"id\":\"1938\",\"type\":\"CDSView\"}},\"id\":\"1937\",\"type\":\"GlyphRenderer\"},{\"attributes\":{\"x0\":{\"field\":\"grp\"},\"x1\":{\"field\":\"grp\"},\"y0\":{\"field\":\"uw\"},\"y1\":{\"field\":\"q3\"}},\"id\":\"1968\",\"type\":\"Segment\"},{\"attributes\":{\"callback\":null,\"factors\":[\"age\"]},\"id\":\"1948\",\"type\":\"FactorRange\"},{\"attributes\":{\"callback\":null},\"id\":\"1840\",\"type\":\"DataRange1d\"},{\"attributes\":{\"axis_label\":null,\"formatter\":{\"id\":\"2004\",\"type\":\"FuncTickFormatter\"},\"major_label_orientation\":1.0471975511965976,\"major_label_text_font_size\":{\"value\":\"0pt\"},\"major_tick_line_color\":{\"value\":null},\"minor_tick_line_color\":{\"value\":null},\"ticker\":{\"id\":\"1957\",\"type\":\"CategoricalTicker\"}},\"id\":\"1956\",\"type\":\"CategoricalAxis\"},{\"attributes\":{\"bottom\":{\"value\":0.01},\"fill_alpha\":{\"value\":0.5},\"fill_color\":{\"value\":\"#6baed6\"},\"left\":{\"field\":\"left\"},\"line_alpha\":{\"value\":0.5},\"line_color\":{\"value\":\"#1f77b4\"},\"right\":{\"field\":\"right\"},\"top\":{\"field\":\"freq\"}},\"id\":\"1861\",\"type\":\"Quad\"},{\"attributes\":{\"formatter\":{\"id\":\"2072\",\"type\":\"BasicTickFormatter\"},\"major_label_orientation\":1.0471975511965976,\"major_label_text_font_size\":{\"value\":\"9pt\"},\"minor_tick_line_color\":{\"value\":null},\"ticker\":{\"id\":\"1867\",\"type\":\"FixedTicker\"}},\"id\":\"1848\",\"type\":\"LinearAxis\"},{\"attributes\":{\"callback\":null,\"renderers\":[{\"id\":\"1902\",\"type\":\"GlyphRenderer\"}],\"tooltips\":[[\"x\",\"@x\"],[\"y\",\"@y\"]]},\"id\":\"1904\",\"type\":\"HoverTool\"},{\"attributes\":{\"data_source\":{\"id\":\"1892\",\"type\":\"ColumnDataSource\"},\"glyph\":{\"id\":\"1894\",\"type\":\"Quad\"},\"hover_glyph\":null,\"muted_glyph\":null,\"nonselection_glyph\":{\"id\":\"1895\",\"type\":\"Quad\"},\"selection_glyph\":null,\"view\":{\"id\":\"1897\",\"type\":\"CDSView\"}},\"id\":\"1896\",\"type\":\"GlyphRenderer\"},{\"attributes\":{},\"id\":\"1954\",\"type\":\"LinearScale\"},{\"attributes\":{\"fill_alpha\":{\"value\":0.1},\"fill_color\":{\"value\":\"#1f77b4\"},\"line_alpha\":{\"value\":0.1},\"line_color\":{\"value\":\"#1f77b4\"},\"size\":{\"units\":\"screen\",\"value\":3},\"x\":{\"field\":\"x\"},\"y\":{\"field\":\"y\"}},\"id\":\"1936\",\"type\":\"Circle\"},{\"attributes\":{\"bottom\":{\"value\":0.01},\"fill_alpha\":{\"value\":0.1},\"fill_color\":{\"value\":\"#1f77b4\"},\"left\":{\"field\":\"left\"},\"line_alpha\":{\"value\":0.1},\"line_color\":{\"value\":\"#1f77b4\"},\"right\":{\"field\":\"right\"},\"top\":{\"field\":\"freq\"}},\"id\":\"1862\",\"type\":\"Quad\"},{\"attributes\":{\"text\":\"age (3.1% missing)\",\"text_font_size\":{\"value\":\"10pt\"}},\"id\":\"1838\",\"type\":\"Title\"},{\"attributes\":{\"grid_line_color\":null,\"ticker\":{\"id\":\"1957\",\"type\":\"CategoricalTicker\"}},\"id\":\"1959\",\"type\":\"Grid\"},{\"attributes\":{\"bottom\":{\"value\":0},\"fill_alpha\":{\"value\":0.5},\"fill_color\":{\"value\":\"#6baed6\"},\"left\":{\"field\":\"left\"},\"line_alpha\":{\"value\":0.5},\"line_color\":{\"value\":\"#1f77b4\"},\"right\":{\"field\":\"right\"},\"top\":{\"field\":\"freq\"}},\"id\":\"1894\",\"type\":\"Quad\"},{\"attributes\":{\"callback\":null},\"id\":\"1913\",\"type\":\"DataRange1d\"},{\"attributes\":{\"callback\":null,\"point_policy\":\"follow_mouse\",\"renderers\":[{\"id\":\"2000\",\"type\":\"GlyphRenderer\"},{\"id\":\"1970\",\"type\":\"GlyphRenderer\"},{\"id\":\"1982\",\"type\":\"GlyphRenderer\"},{\"id\":\"1988\",\"type\":\"GlyphRenderer\"},{\"id\":\"1976\",\"type\":\"GlyphRenderer\"},{\"id\":\"1994\",\"type\":\"GlyphRenderer\"}],\"tooltips\":[[\"Upper Whisker\",\"@uw\"],[\"Upper Quartile\",\"@q3\"],[\"Median\",\"@q2\"],[\"Lower Quartile\",\"@q1\"],[\"Lower Whisker\",\"@lw\"]]},\"id\":\"2002\",\"type\":\"HoverTool\"},{\"attributes\":{\"source\":{\"id\":\"1892\",\"type\":\"ColumnDataSource\"}},\"id\":\"1897\",\"type\":\"CDSView\"},{\"attributes\":{},\"id\":\"1961\",\"type\":\"BasicTicker\"},{\"attributes\":{\"bottom\":{\"value\":0},\"fill_alpha\":{\"value\":0.1},\"fill_color\":{\"value\":\"#1f77b4\"},\"left\":{\"field\":\"left\"},\"line_alpha\":{\"value\":0.1},\"line_color\":{\"value\":\"#1f77b4\"},\"right\":{\"field\":\"right\"},\"top\":{\"field\":\"freq\"}},\"id\":\"1895\",\"type\":\"Quad\"},{\"attributes\":{\"active_drag\":\"auto\",\"active_inspect\":\"auto\",\"active_multi\":null,\"active_scroll\":\"auto\",\"active_tap\":\"auto\",\"tools\":[{\"id\":\"2002\",\"type\":\"HoverTool\"}]},\"id\":\"1965\",\"type\":\"Toolbar\"},{\"attributes\":{\"callback\":null,\"data\":{\"freq\":[5,7,5,6,9,11,3,9,3,4],\"index\":[0,1,2,3,4,5,6,7,8,9],\"intervals\":[\"[26.0,30.7)\",\"[30.7,35.4)\",\"[35.4,40.1)\",\"[40.1,44.8)\",\"[44.8,49.5)\",\"[49.5,54.2)\",\"[54.2,58.9)\",\"[58.9,63.6)\",\"[63.6,68.3)\",\"[68.3,73.0]\"],\"left\":{\"__ndarray__\":\"AAAAAAAAOkAzMzMzM7M+QDMzMzMzs0FAzczMzMwMREBmZmZmZmZGQAAAAAAAwEhAmpmZmZkZS0AzMzMzM3NNQM3MzMzMzE9ANDMzMzMTUUA=\",\"dtype\":\"float64\",\"shape\":[10]},\"pct\":{\"__ndarray__\":\"AAAAAABAH0AAAAAAAOAlQAAAAAAAQB9AAAAAAADAIkAAAAAAACAsQAAAAAAAMDFAAAAAAADAEkAAAAAAACAsQAAAAAAAwBJAAAAAAAAAGUA=\",\"dtype\":\"float64\",\"shape\":[10]},\"right\":{\"__ndarray__\":\"MzMzMzOzPkAzMzMzM7NBQM3MzMzMDERAZmZmZmZmRkAAAAAAAMBIQJqZmZmZGUtAMzMzMzNzTUDNzMzMzMxPQDQzMzMzE1FAAAAAAABAUkA=\",\"dtype\":\"float64\",\"shape\":[10]}},\"selected\":{\"id\":\"2085\",\"type\":\"Selection\"},\"selection_policy\":{\"id\":\"2086\",\"type\":\"UnionRenderers\"}},\"id\":\"1859\",\"type\":\"ColumnDataSource\"},{\"attributes\":{\"callback\":null,\"data\":{\"grp\":[\"age\"],\"index\":[0],\"lw\":[26.0],\"otlrs\":[[]],\"q1\":[38.25],\"q2\":[48.5],\"q3\":[58.5],\"uw\":[73.0],\"x\":[1],\"x0\":[0.19999999999999996],\"x1\":[0.8]},\"selected\":{\"id\":\"2105\",\"type\":\"Selection\"},\"selection_policy\":{\"id\":\"2106\",\"type\":\"UnionRenderers\"}},\"id\":\"1996\",\"type\":\"ColumnDataSource\"},{\"attributes\":{\"dimension\":1,\"grid_line_color\":null,\"ticker\":{\"id\":\"1961\",\"type\":\"BasicTicker\"}},\"id\":\"1964\",\"type\":\"Grid\"},{\"attributes\":{\"axis_label\":\"age\",\"formatter\":{\"id\":\"2083\",\"type\":\"BasicTickFormatter\"},\"major_label_text_font_size\":{\"value\":\"9pt\"},\"minor_tick_line_color\":{\"value\":null},\"ticker\":{\"id\":\"1961\",\"type\":\"BasicTicker\"}},\"id\":\"1960\",\"type\":\"LinearAxis\"},{\"attributes\":{\"code\":\"\\n            if (tick.length > 15) return tick.substring(0, 15-2) + '...';\\n            else return tick;\\n        \"},\"id\":\"2004\",\"type\":\"FuncTickFormatter\"},{\"attributes\":{\"callback\":null},\"id\":\"1842\",\"type\":\"DataRange1d\"},{\"attributes\":{\"child\":{\"id\":\"1945\",\"subtype\":\"Figure\",\"type\":\"Plot\"},\"title\":\"box plot\"},\"id\":\"2006\",\"type\":\"Panel\"},{\"attributes\":{},\"id\":\"1849\",\"type\":\"BasicTicker\"},{\"attributes\":{\"below\":[{\"id\":\"1848\",\"type\":\"LinearAxis\"}],\"center\":[{\"id\":\"1852\",\"type\":\"Grid\"},{\"id\":\"1857\",\"type\":\"Grid\"}],\"left\":[{\"id\":\"1853\",\"type\":\"LinearAxis\"}],\"plot_height\":400,\"plot_width\":450,\"renderers\":[{\"id\":\"1863\",\"type\":\"GlyphRenderer\"}],\"title\":{\"id\":\"1838\",\"type\":\"Title\"},\"toolbar\":{\"id\":\"1858\",\"type\":\"Toolbar\"},\"toolbar_location\":null,\"x_range\":{\"id\":\"1840\",\"type\":\"DataRange1d\"},\"x_scale\":{\"id\":\"1844\",\"type\":\"LinearScale\"},\"y_range\":{\"id\":\"1842\",\"type\":\"DataRange1d\"},\"y_scale\":{\"id\":\"1846\",\"type\":\"LinearScale\"}},\"id\":\"1837\",\"subtype\":\"Figure\",\"type\":\"Plot\"},{\"attributes\":{\"source\":{\"id\":\"1996\",\"type\":\"ColumnDataSource\"}},\"id\":\"2001\",\"type\":\"CDSView\"},{\"attributes\":{\"data_source\":{\"id\":\"1996\",\"type\":\"ColumnDataSource\"},\"glyph\":{\"id\":\"1998\",\"type\":\"Segment\"},\"hover_glyph\":null,\"muted_glyph\":null,\"nonselection_glyph\":{\"id\":\"1999\",\"type\":\"Segment\"},\"selection_glyph\":null,\"view\":{\"id\":\"2001\",\"type\":\"CDSView\"}},\"id\":\"2000\",\"type\":\"GlyphRenderer\"},{\"attributes\":{\"line_alpha\":{\"value\":0.1},\"line_color\":{\"value\":\"#1f77b4\"},\"x0\":{\"field\":\"x0\"},\"x1\":{\"field\":\"x1\"},\"y0\":{\"field\":\"uw\"},\"y1\":{\"field\":\"uw\"}},\"id\":\"1999\",\"type\":\"Segment\"},{\"attributes\":{\"source\":{\"id\":\"1859\",\"type\":\"ColumnDataSource\"}},\"id\":\"1864\",\"type\":\"CDSView\"},{\"attributes\":{\"callback\":null,\"data\":{\"grp\":[\"age\"],\"index\":[0],\"lw\":[26.0],\"otlrs\":[[]],\"q1\":[38.25],\"q2\":[48.5],\"q3\":[58.5],\"uw\":[73.0],\"x\":[1],\"x0\":[0.19999999999999996],\"x1\":[0.8]},\"selected\":{\"id\":\"2097\",\"type\":\"Selection\"},\"selection_policy\":{\"id\":\"2098\",\"type\":\"UnionRenderers\"}},\"id\":\"1972\",\"type\":\"ColumnDataSource\"},{\"attributes\":{},\"id\":\"1877\",\"type\":\"LinearScale\"},{\"attributes\":{\"line_alpha\":0.5,\"line_color\":\"#9467bd\",\"line_width\":2,\"x\":{\"field\":\"x\"},\"y\":{\"field\":\"y\"}},\"id\":\"1900\",\"type\":\"Line\"},{\"attributes\":{\"callback\":null,\"data\":{\"grp\":[\"age\"],\"index\":[0],\"lw\":[26.0],\"otlrs\":[[]],\"q1\":[38.25],\"q2\":[48.5],\"q3\":[58.5],\"uw\":[73.0],\"x\":[1],\"x0\":[0.19999999999999996],\"x1\":[0.8]},\"selected\":{\"id\":\"2099\",\"type\":\"Selection\"},\"selection_policy\":{\"id\":\"2100\",\"type\":\"UnionRenderers\"}},\"id\":\"1978\",\"type\":\"ColumnDataSource\"},{\"attributes\":{},\"id\":\"2089\",\"type\":\"Selection\"},{\"attributes\":{\"x0\":{\"field\":\"grp\"},\"x1\":{\"field\":\"grp\"},\"y0\":{\"field\":\"lw\"},\"y1\":{\"field\":\"q1\"}},\"id\":\"1974\",\"type\":\"Segment\"},{\"attributes\":{\"bottom\":{\"field\":\"q2\"},\"fill_color\":{\"value\":\"#1f77b4\"},\"top\":{\"field\":\"q3\"},\"width\":{\"value\":0.7},\"x\":{\"field\":\"grp\"}},\"id\":\"1980\",\"type\":\"VBar\"},{\"attributes\":{},\"id\":\"2073\",\"type\":\"BasicTickFormatter\"},{\"attributes\":{\"source\":{\"id\":\"1966\",\"type\":\"ColumnDataSource\"}},\"id\":\"1971\",\"type\":\"CDSView\"},{\"attributes\":{\"data_source\":{\"id\":\"1966\",\"type\":\"ColumnDataSource\"},\"glyph\":{\"id\":\"1968\",\"type\":\"Segment\"},\"hover_glyph\":null,\"muted_glyph\":null,\"nonselection_glyph\":{\"id\":\"1969\",\"type\":\"Segment\"},\"selection_glyph\":null,\"view\":{\"id\":\"1971\",\"type\":\"CDSView\"}},\"id\":\"1970\",\"type\":\"GlyphRenderer\"},{\"attributes\":{\"active_drag\":\"auto\",\"active_inspect\":\"auto\",\"active_multi\":null,\"active_scroll\":\"auto\",\"active_tap\":\"auto\",\"tools\":[{\"id\":\"1931\",\"type\":\"HoverTool\"}]},\"id\":\"1932\",\"type\":\"Toolbar\"},{\"attributes\":{\"callback\":null,\"data\":{\"freq\":{\"__ndarray__\":\"Fqq4dQKSkT+EVM+kNpmYPxKquHUCkpE/Uv9DjZwVlT/s/uXTaqCfP61UfoHPU6M/Uv9DjZwVhT/s/uXTaqCfP0D/Q42cFYU/zalavNAcjD8=\",\"dtype\":\"float64\",\"shape\":[10]},\"index\":[0,1,2,3,4,5,6,7,8,9],\"intervals\":[\"[26.0,30.7)\",\"[30.7,35.4)\",\"[35.4,40.1)\",\"[40.1,44.8)\",\"[44.8,49.5)\",\"[49.5,54.2)\",\"[54.2,58.9)\",\"[58.9,63.6)\",\"[63.6,68.3)\",\"[68.3,73.0]\"],\"left\":{\"__ndarray__\":\"AAAAAAAAOkAzMzMzM7M+QDMzMzMzs0FAzczMzMwMREBmZmZmZmZGQAAAAAAAwEhAmpmZmZkZS0AzMzMzM3NNQM3MzMzMzE9ANDMzMzMTUUA=\",\"dtype\":\"float64\",\"shape\":[10]},\"right\":{\"__ndarray__\":\"MzMzMzOzPkAzMzMzM7NBQM3MzMzMDERAZmZmZmZmRkAAAAAAAMBIQJqZmZmZGUtAMzMzMzNzTUDNzMzMzMxPQDQzMzMzE1FAAAAAAABAUkA=\",\"dtype\":\"float64\",\"shape\":[10]}},\"selected\":{\"id\":\"2087\",\"type\":\"Selection\"},\"selection_policy\":{\"id\":\"2088\",\"type\":\"UnionRenderers\"}},\"id\":\"1892\",\"type\":\"ColumnDataSource\"},{\"attributes\":{\"line_alpha\":{\"value\":0.1},\"line_color\":{\"value\":\"#1f77b4\"},\"x0\":{\"field\":\"grp\"},\"x1\":{\"field\":\"grp\"},\"y0\":{\"field\":\"uw\"},\"y1\":{\"field\":\"q3\"}},\"id\":\"1969\",\"type\":\"Segment\"},{\"attributes\":{\"callback\":null,\"data\":{\"grp\":[\"age\"],\"index\":[0],\"lw\":[26.0],\"otlrs\":[[]],\"q1\":[38.25],\"q2\":[48.5],\"q3\":[58.5],\"uw\":[73.0],\"x\":[1],\"x0\":[0.19999999999999996],\"x1\":[0.8]},\"selected\":{\"id\":\"2101\",\"type\":\"Selection\"},\"selection_policy\":{\"id\":\"2102\",\"type\":\"UnionRenderers\"}},\"id\":\"1984\",\"type\":\"ColumnDataSource\"},{\"attributes\":{},\"id\":\"1846\",\"type\":\"LinearScale\"},{\"attributes\":{},\"id\":\"2072\",\"type\":\"BasicTickFormatter\"},{\"attributes\":{\"formatter\":{\"id\":\"2075\",\"type\":\"BasicTickFormatter\"},\"major_label_orientation\":1.0471975511965976,\"major_label_text_font_size\":{\"value\":\"9pt\"},\"minor_tick_line_color\":{\"value\":null},\"ticker\":{\"id\":\"1907\",\"type\":\"FixedTicker\"}},\"id\":\"1881\",\"type\":\"LinearAxis\"},{\"attributes\":{},\"id\":\"2086\",\"type\":\"UnionRenderers\"},{\"attributes\":{},\"id\":\"2075\",\"type\":\"BasicTickFormatter\"},{\"attributes\":{},\"id\":\"1927\",\"type\":\"BasicTicker\"},{\"attributes\":{\"source\":{\"id\":\"1978\",\"type\":\"ColumnDataSource\"}},\"id\":\"1983\",\"type\":\"CDSView\"},{\"attributes\":{\"data_source\":{\"id\":\"1978\",\"type\":\"ColumnDataSource\"},\"glyph\":{\"id\":\"1980\",\"type\":\"VBar\"},\"hover_glyph\":null,\"muted_glyph\":null,\"nonselection_glyph\":{\"id\":\"1981\",\"type\":\"VBar\"},\"selection_glyph\":null,\"view\":{\"id\":\"1983\",\"type\":\"CDSView\"}},\"id\":\"1982\",\"type\":\"GlyphRenderer\"},{\"attributes\":{\"active_drag\":\"auto\",\"active_inspect\":\"auto\",\"active_multi\":null,\"active_scroll\":\"auto\",\"active_tap\":\"auto\",\"tools\":[{\"id\":\"1898\",\"type\":\"HoverTool\"},{\"id\":\"1904\",\"type\":\"HoverTool\"}]},\"id\":\"1891\",\"type\":\"Toolbar\"},{\"attributes\":{},\"id\":\"2076\",\"type\":\"BasicTickFormatter\"},{\"attributes\":{\"text\":\"age\",\"text_font_size\":{\"value\":\"10pt\"}},\"id\":\"1871\",\"type\":\"Title\"},{\"attributes\":{\"callback\":null},\"id\":\"1875\",\"type\":\"DataRange1d\"},{\"attributes\":{},\"id\":\"2078\",\"type\":\"BasicTickFormatter\"},{\"attributes\":{\"source\":{\"id\":\"1972\",\"type\":\"ColumnDataSource\"}},\"id\":\"1977\",\"type\":\"CDSView\"},{\"attributes\":{\"callback\":null},\"id\":\"1873\",\"type\":\"DataRange1d\"},{\"attributes\":{\"data_source\":{\"id\":\"1972\",\"type\":\"ColumnDataSource\"},\"glyph\":{\"id\":\"1974\",\"type\":\"Segment\"},\"hover_glyph\":null,\"muted_glyph\":null,\"nonselection_glyph\":{\"id\":\"1975\",\"type\":\"Segment\"},\"selection_glyph\":null,\"view\":{\"id\":\"1977\",\"type\":\"CDSView\"}},\"id\":\"1976\",\"type\":\"GlyphRenderer\"},{\"attributes\":{\"axis_label\":\"Frequency\",\"formatter\":{\"id\":\"2073\",\"type\":\"BasicTickFormatter\"},\"major_label_text_font_size\":{\"value\":\"9pt\"},\"minor_tick_line_color\":{\"value\":null},\"ticker\":{\"id\":\"1854\",\"type\":\"BasicTicker\"}},\"id\":\"1853\",\"type\":\"LinearAxis\"},{\"attributes\":{},\"id\":\"2080\",\"type\":\"BasicTickFormatter\"},{\"attributes\":{\"line_alpha\":{\"value\":0.1},\"line_color\":{\"value\":\"#1f77b4\"},\"x0\":{\"field\":\"grp\"},\"x1\":{\"field\":\"grp\"},\"y0\":{\"field\":\"lw\"},\"y1\":{\"field\":\"q1\"}},\"id\":\"1975\",\"type\":\"Segment\"},{\"attributes\":{\"callback\":null,\"mode\":\"vline\",\"renderers\":[{\"id\":\"1896\",\"type\":\"GlyphRenderer\"}],\"tooltips\":[[\"Bin\",\"@intervals\"],[\"Density\",\"@freq\"]]},\"id\":\"1898\",\"type\":\"HoverTool\"},{\"attributes\":{\"fill_color\":{\"value\":\"#1f77b4\"},\"line_color\":{\"value\":\"#1f77b4\"},\"size\":{\"units\":\"screen\",\"value\":3},\"x\":{\"field\":\"x\"},\"y\":{\"field\":\"y\"}},\"id\":\"1935\",\"type\":\"Circle\"},{\"attributes\":{\"bottom\":{\"field\":\"q2\"},\"fill_alpha\":{\"value\":0.1},\"fill_color\":{\"value\":\"#1f77b4\"},\"line_alpha\":{\"value\":0.1},\"line_color\":{\"value\":\"#1f77b4\"},\"top\":{\"field\":\"q3\"},\"width\":{\"value\":0.7},\"x\":{\"field\":\"grp\"}},\"id\":\"1981\",\"type\":\"VBar\"},{\"attributes\":{},\"id\":\"2083\",\"type\":\"BasicTickFormatter\"},{\"attributes\":{\"below\":[{\"id\":\"1921\",\"type\":\"LinearAxis\"}],\"center\":[{\"id\":\"1925\",\"type\":\"Grid\"},{\"id\":\"1930\",\"type\":\"Grid\"}],\"left\":[{\"id\":\"1926\",\"type\":\"LinearAxis\"}],\"plot_height\":400,\"plot_width\":450,\"renderers\":[{\"id\":\"1937\",\"type\":\"GlyphRenderer\"},{\"id\":\"1942\",\"type\":\"GlyphRenderer\"}],\"title\":{\"id\":\"1911\",\"type\":\"Title\"},\"toolbar\":{\"id\":\"1932\",\"type\":\"Toolbar\"},\"toolbar_location\":null,\"x_range\":{\"id\":\"1913\",\"type\":\"DataRange1d\"},\"x_scale\":{\"id\":\"1917\",\"type\":\"LinearScale\"},\"y_range\":{\"id\":\"1915\",\"type\":\"DataRange1d\"},\"y_scale\":{\"id\":\"1919\",\"type\":\"LinearScale\"}},\"id\":\"1910\",\"subtype\":\"Figure\",\"type\":\"Plot\"},{\"attributes\":{},\"id\":\"1879\",\"type\":\"LinearScale\"},{\"attributes\":{\"source\":{\"id\":\"1990\",\"type\":\"ColumnDataSource\"}},\"id\":\"1995\",\"type\":\"CDSView\"},{\"attributes\":{},\"id\":\"2088\",\"type\":\"UnionRenderers\"},{\"attributes\":{},\"id\":\"2101\",\"type\":\"Selection\"},{\"attributes\":{\"grid_line_color\":null,\"ticker\":{\"id\":\"1922\",\"type\":\"BasicTicker\"}},\"id\":\"1925\",\"type\":\"Grid\"},{\"attributes\":{\"bottom\":{\"field\":\"q1\"},\"fill_color\":{\"value\":\"#1f77b4\"},\"top\":{\"field\":\"q2\"},\"width\":{\"value\":0.7},\"x\":{\"field\":\"grp\"}},\"id\":\"1986\",\"type\":\"VBar\"},{\"attributes\":{},\"id\":\"2085\",\"type\":\"Selection\"},{\"attributes\":{},\"id\":\"2090\",\"type\":\"UnionRenderers\"},{\"attributes\":{\"child\":{\"id\":\"1870\",\"subtype\":\"Figure\",\"type\":\"Plot\"},\"title\":\"KDE plot\"},\"id\":\"1909\",\"type\":\"Panel\"},{\"attributes\":{\"data_source\":{\"id\":\"1984\",\"type\":\"ColumnDataSource\"},\"glyph\":{\"id\":\"1986\",\"type\":\"VBar\"},\"hover_glyph\":null,\"muted_glyph\":null,\"nonselection_glyph\":{\"id\":\"1987\",\"type\":\"VBar\"},\"selection_glyph\":null,\"view\":{\"id\":\"1989\",\"type\":\"CDSView\"}},\"id\":\"1988\",\"type\":\"GlyphRenderer\"},{\"attributes\":{\"ticks\":[26.0,30.7,35.4,40.1,44.8,49.5,54.2,58.9,63.6,68.30000000000001,73.0]},\"id\":\"1867\",\"type\":\"FixedTicker\"},{\"attributes\":{},\"id\":\"2091\",\"type\":\"Selection\"},{\"attributes\":{\"callback\":null,\"data\":{\"x\":{\"__ndarray__\":\"GsMiljGfM0D4sidA8/c2QKwiBnjtGDlANuDHdkOzOkAnqBleLgE8QKy+oHJ1HT1AoULv4L0WPkBbDLx89PU+QD2uP7H1wD9AtyydMuk9QEBKcFHlvZRAQKMyarUS5kBAZf0rRMAyQUBSvoLscHtBQAe0RjqtwEFADIbybeQCQkCeJdd3ckJCQGrPGUakf0JA772y7rq6QkAoVfAN7vNCQNWMJJRtK0NAbilGKmNhQ0BurxZJ85VDQJhmQxY+yUNAsVx7FWD7Q0CGtau3cixEQB4X7M+MXERA2erA88KLREC6Y/vKJ7pEQKsuf1LM50RA+wJ4FMAURUBENPtXEUFFQFPhpUnNbEVAJDd2HgCYRUCW794xtcJFQPUB4x/37EVAWPfg288WRkBr95bESEBGQDqK0LVqaUZApdEbGD6SRkBRkdTuyrpGQILvxuQY40ZAmM6hVy8LR0D3e2hiFTNHQKrXDOfRWkdAd79Vl2uCR0DsNjH96KlHQFVQjoJQ0UdAPh7YeKj4R0B41ygg9x9IQHDFSq5CR0hAqn6bVZFuSECTTOVL6ZVIQPxlQtFQvUhAcd0dN87kSEA+xWbnZwxJQPEgC2wkNElAUM7RdgpcSUBmrazpIIRJQJcLn99urElAQ8tXtvvUSUCuEqMYz/1JQHyl3AnxJkpAkKWS8mlQSkDzmpCuQnpKQFKtlJyEpEpAxGX9rznPSkCVu82EbPpKQKRoeHYoJktA7Jn7uXlSS0A9bvR7bX9LQC45eAMSrUtAD7Ky2nbbS0DKhYf+rApMQGLnxxbHOkxAN0D4uNlrTEBQNjC4+51MQHrtXIVG0UxAenMtpNYFTUASEE86zDtNQMBHg8BLc01A+N7A336sTUB+zVmIledNQEp3nFbHJE5A3BaBYFVkTkDh6CyUjKZOQJXe8OHI605Ag59Hink0T0BFagkZJ4FPQJ4sIul70k9AGDjrTagUUEDk4ul6X0NQQF3LCsgfdlBAy/39bu2tUEDJnpGKP+xQQGpks09RM1FAZtaHCcyGUUDIRTiJYe1RQLXhLxegdVJArh2xgdBLU0A=\",\"dtype\":\"float64\",\"shape\":[100]},\"y\":{\"__ndarray__\":\"AAAAAAAAOkAAAAAAAAA6QAAAAAAAADpAWA191dDXOkBxLr2RfQY8QDbWu7gSoTxA8nkvn/eyPUBCcSsUt4I/QAAAAAAAAEBAAAAAAAAAQEAAAAAAAABAQAAAAAAAAEBAm2yyySbbQECbbLLJJttAQAAAAAAAgEFAAAAAAACAQUAAAAAAAIBBQAAAAAAAgEFAAAAAAACAQUA6W6qzpfpBQICBVG2dikJAY9XTAOjXQkAAAAAAAABDQAAAAAAAAENAAAAAAAAAQ0DtJNFOEg1DQNB4UOJcWkNAZZmf607PQ0AqQZ4S5GlEQAAAAAAAgERAWshNMIePREA8HM3D0dxEQCBwTFccKkVAAsTL6mZ3RUDkF0t+scRFQAAAAAAAAEZAAAAAAAAARkBvZ0jM23lGQAAAAAAAgEZANQ9H83CURkAXY8aGu+FGQAAAAAAAAEdAAAAAAAAAR0C+XkRBm0lHQAAAAAAAgEdAAAAAAACAR0BnWsL7erFHQEquQY/F/kdAAAAAAAAASEAPVkC2WhlIQPGpv0mlZkhA1P0+3e+zSEAAAAAAAABJQAAAAAAAAElAfPm8l88bSUBeTTwrGmlJQAAAAAAAgElAJPU6Uq+DSUAGSbrl+dBJQAAAAAAAAEpAAAAAAAAASkAAAAAAAABKQAAAAAAAAEpAAAAAAAAASkAAAAAAAABKQAAAAAAAAEpANtBpA512SkAAAAAAAABLQAAAAAAAAEtAhsdleFxGS0BMb2Sf8eBLQAAAAAAAAExAat+w9g0LTEBNMzCKWFhMQGAOXztGy0xAJrZdYttlTUAAAAAAAIBNQAAAAAAAgE1AAAAAAACATUAAAAAAAIBNQAAAAAAAgE1AxKRVTFoFTkAAAAAAAIBOQAAAAAAAgE5AAAAAAACATkAAAAAAAIBOQAAAAAAAgE5Az3WnByLFTkAAAAAAAABPQAAAAAAAAE9A8OJKhANaT0C0ikmrmPRPQDwZJOmWR1BAAAAAAACAUEAAAAAAAIBQQFgfc/Uxx1BAKx2y0iE7UUD+GvGvEa9RQEYIEC+rC1JAN7LPeFAyUkA=\",\"dtype\":\"float64\",\"shape\":[100]}},\"selected\":{\"id\":\"2091\",\"type\":\"Selection\"},\"selection_policy\":{\"id\":\"2092\",\"type\":\"UnionRenderers\"}},\"id\":\"1934\",\"type\":\"ColumnDataSource\"},{\"attributes\":{\"line_color\":\"red\",\"x\":{\"field\":\"x\"},\"y\":{\"field\":\"y\"}},\"id\":\"1940\",\"type\":\"Line\"},{\"attributes\":{\"data_source\":{\"id\":\"1859\",\"type\":\"ColumnDataSource\"},\"glyph\":{\"id\":\"1861\",\"type\":\"Quad\"},\"hover_glyph\":null,\"muted_glyph\":null,\"nonselection_glyph\":{\"id\":\"1862\",\"type\":\"Quad\"},\"selection_glyph\":null,\"view\":{\"id\":\"1864\",\"type\":\"CDSView\"}},\"id\":\"1863\",\"type\":\"GlyphRenderer\"},{\"attributes\":{},\"id\":\"2092\",\"type\":\"UnionRenderers\"},{\"attributes\":{\"active_drag\":\"auto\",\"active_inspect\":\"auto\",\"active_multi\":null,\"active_scroll\":\"auto\",\"active_tap\":\"auto\",\"tools\":[{\"id\":\"1865\",\"type\":\"HoverTool\"}]},\"id\":\"1858\",\"type\":\"Toolbar\"},{\"attributes\":{\"x0\":{\"field\":\"x0\"},\"x1\":{\"field\":\"x1\"},\"y0\":{\"field\":\"lw\"},\"y1\":{\"field\":\"lw\"}},\"id\":\"1992\",\"type\":\"Segment\"},{\"attributes\":{},\"id\":\"2093\",\"type\":\"Selection\"},{\"attributes\":{\"below\":[{\"id\":\"1881\",\"type\":\"LinearAxis\"}],\"center\":[{\"id\":\"1885\",\"type\":\"Grid\"},{\"id\":\"1890\",\"type\":\"Grid\"}],\"left\":[{\"id\":\"1886\",\"type\":\"LinearAxis\"}],\"plot_height\":400,\"plot_width\":450,\"renderers\":[{\"id\":\"1896\",\"type\":\"GlyphRenderer\"},{\"id\":\"1902\",\"type\":\"GlyphRenderer\"}],\"title\":{\"id\":\"1871\",\"type\":\"Title\"},\"toolbar\":{\"id\":\"1891\",\"type\":\"Toolbar\"},\"toolbar_location\":null,\"x_range\":{\"id\":\"1873\",\"type\":\"DataRange1d\"},\"x_scale\":{\"id\":\"1877\",\"type\":\"LinearScale\"},\"y_range\":{\"id\":\"1875\",\"type\":\"DataRange1d\"},\"y_scale\":{\"id\":\"1879\",\"type\":\"LinearScale\"}},\"id\":\"1870\",\"subtype\":\"Figure\",\"type\":\"Plot\"},{\"attributes\":{\"axis_label\":\"Quantiles of age\",\"formatter\":{\"id\":\"2080\",\"type\":\"BasicTickFormatter\"},\"major_label_text_font_size\":{\"value\":\"9pt\"},\"minor_tick_line_color\":{\"value\":null},\"ticker\":{\"id\":\"1927\",\"type\":\"BasicTicker\"}},\"id\":\"1926\",\"type\":\"LinearAxis\"},{\"attributes\":{\"callback\":null,\"data\":{\"grp\":[\"age\"],\"index\":[0],\"lw\":[26.0],\"otlrs\":[[]],\"q1\":[38.25],\"q2\":[48.5],\"q3\":[58.5],\"uw\":[73.0],\"x\":[1],\"x0\":[0.19999999999999996],\"x1\":[0.8]},\"selected\":{\"id\":\"2103\",\"type\":\"Selection\"},\"selection_policy\":{\"id\":\"2104\",\"type\":\"UnionRenderers\"}},\"id\":\"1990\",\"type\":\"ColumnDataSource\"},{\"attributes\":{},\"id\":\"2094\",\"type\":\"UnionRenderers\"},{\"attributes\":{\"callback\":null,\"mode\":\"vline\",\"tooltips\":[[\"Bin\",\"@intervals\"],[\"Frequency\",\"@freq\"],[\"Percent\",\"@pct{0.2f}%\"]]},\"id\":\"1865\",\"type\":\"HoverTool\"},{\"attributes\":{},\"id\":\"2095\",\"type\":\"Selection\"},{\"attributes\":{\"bottom\":{\"field\":\"q1\"},\"fill_alpha\":{\"value\":0.1},\"fill_color\":{\"value\":\"#1f77b4\"},\"line_alpha\":{\"value\":0.1},\"line_color\":{\"value\":\"#1f77b4\"},\"top\":{\"field\":\"q2\"},\"width\":{\"value\":0.7},\"x\":{\"field\":\"grp\"}},\"id\":\"1987\",\"type\":\"VBar\"},{\"attributes\":{},\"id\":\"2096\",\"type\":\"UnionRenderers\"},{\"attributes\":{\"child\":{\"id\":\"1837\",\"subtype\":\"Figure\",\"type\":\"Plot\"},\"title\":\"histogram\"},\"id\":\"1869\",\"type\":\"Panel\"},{\"attributes\":{},\"id\":\"2087\",\"type\":\"Selection\"},{\"attributes\":{},\"id\":\"1882\",\"type\":\"BasicTicker\"},{\"attributes\":{},\"id\":\"2097\",\"type\":\"Selection\"},{\"attributes\":{},\"id\":\"1887\",\"type\":\"BasicTicker\"},{\"attributes\":{\"source\":{\"id\":\"1984\",\"type\":\"ColumnDataSource\"}},\"id\":\"1989\",\"type\":\"CDSView\"},{\"attributes\":{},\"id\":\"2098\",\"type\":\"UnionRenderers\"},{\"attributes\":{\"ticks\":[26.0,30.7,35.4,40.1,44.8,49.5,54.2,58.9,63.6,68.30000000000001,73.0]},\"id\":\"1907\",\"type\":\"FixedTicker\"},{\"attributes\":{\"line_alpha\":{\"value\":0.1},\"line_color\":{\"value\":\"#1f77b4\"},\"x0\":{\"field\":\"x0\"},\"x1\":{\"field\":\"x1\"},\"y0\":{\"field\":\"lw\"},\"y1\":{\"field\":\"lw\"}},\"id\":\"1993\",\"type\":\"Segment\"},{\"attributes\":{},\"id\":\"2099\",\"type\":\"Selection\"},{\"attributes\":{\"axis_label\":\"Density\",\"formatter\":{\"id\":\"2076\",\"type\":\"BasicTickFormatter\"},\"major_label_text_font_size\":{\"value\":\"9pt\"},\"minor_tick_line_color\":{\"value\":null},\"ticker\":{\"id\":\"1887\",\"type\":\"BasicTicker\"}},\"id\":\"1886\",\"type\":\"LinearAxis\"},{\"attributes\":{\"callback\":null,\"tooltips\":[[\"x\",\"@x\"],[\"y\",\"@y\"]]},\"id\":\"1931\",\"type\":\"HoverTool\"},{\"attributes\":{\"x0\":{\"field\":\"x0\"},\"x1\":{\"field\":\"x1\"},\"y0\":{\"field\":\"uw\"},\"y1\":{\"field\":\"uw\"}},\"id\":\"1998\",\"type\":\"Segment\"},{\"attributes\":{\"dimension\":1,\"grid_line_color\":null,\"ticker\":{\"id\":\"1887\",\"type\":\"BasicTicker\"}},\"id\":\"1890\",\"type\":\"Grid\"},{\"attributes\":{},\"id\":\"2100\",\"type\":\"UnionRenderers\"},{\"attributes\":{\"data_source\":{\"id\":\"1990\",\"type\":\"ColumnDataSource\"},\"glyph\":{\"id\":\"1992\",\"type\":\"Segment\"},\"hover_glyph\":null,\"muted_glyph\":null,\"nonselection_glyph\":{\"id\":\"1993\",\"type\":\"Segment\"},\"selection_glyph\":null,\"view\":{\"id\":\"1995\",\"type\":\"CDSView\"}},\"id\":\"1994\",\"type\":\"GlyphRenderer\"},{\"attributes\":{\"grid_line_color\":null,\"ticker\":{\"id\":\"1882\",\"type\":\"BasicTicker\"}},\"id\":\"1885\",\"type\":\"Grid\"}],\"root_ids\":[\"2007\"]},\"title\":\"Bokeh Application\",\"version\":\"1.4.0\"}};\n",
       "  var render_items = [{\"docid\":\"1c863add-e0e8-4009-9695-7ff6cb24624b\",\"roots\":{\"2007\":\"c6f2d21d-12c9-4f4a-9960-fc9e364cbc6b\"}}];\n",
       "  root.Bokeh.embed.embed_items_notebook(docs_json, render_items);\n",
       "\n",
       "  }\n",
       "  if (root.Bokeh !== undefined) {\n",
       "    embed_document(root);\n",
       "  } else {\n",
       "    var attempts = 0;\n",
       "    var timer = setInterval(function(root) {\n",
       "      if (root.Bokeh !== undefined) {\n",
       "        clearInterval(timer);\n",
       "        embed_document(root);\n",
       "      } else {\n",
       "        attempts++;\n",
       "        if (attempts > 100) {\n",
       "          clearInterval(timer);\n",
       "          console.log(\"Bokeh: ERROR: Unable to run BokehJS code because BokehJS library is missing\");\n",
       "        }\n",
       "      }\n",
       "    }, 10, root)\n",
       "  }\n",
       "})(window);"
      ],
      "application/vnd.bokehjs_exec.v0+json": ""
     },
     "metadata": {
      "application/vnd.bokehjs_exec.v0+json": {
       "id": "2007"
      }
     },
     "output_type": "display_data"
    },
    {
     "name": "stderr",
     "output_type": "stream",
     "text": [
      "/opt/anaconda3/lib/python3.7/site-packages/numpy/lib/histograms.py:829: RuntimeWarning: invalid value encountered in greater_equal\n",
      "  keep = (tmp_a >= first_edge)\n",
      "/opt/anaconda3/lib/python3.7/site-packages/numpy/lib/histograms.py:830: RuntimeWarning: invalid value encountered in less_equal\n",
      "  keep &= (tmp_a <= last_edge)\n"
     ]
    },
    {
     "data": {
      "text/plain": [
       "<Figure size 640x480 with 1 Axes>"
      ]
     },
     "metadata": {},
     "output_type": "display_data"
    }
   ],
   "source": [
    "from dataprep.eda import plot\n",
    "import pandas as pd\n",
    "from matplotlib import pyplot\n",
    "\n",
    "df = pd.read_csv(\"faculty_grad_year.csv\")\n",
    "df[\"age\"] = 2020+23-df[\"gradyear\"]\n",
    "\n",
    "plot(df, \"age\")\n",
    "pyplot.hist(df[\"age\"])\n",
    "pyplot.show()"
   ]
  },
  {
   "cell_type": "markdown",
   "metadata": {},
   "source": [
    "## Submission"
   ]
  },
  {
   "cell_type": "markdown",
   "metadata": {},
   "source": [
    "Complete the code in this [notebook](https://github.com/sfu-db/bigdata-cmpt733/blob/master/Assignments/A1/A1.ipynb), and submit it to the CourSys activity `Assignment 1`."
   ]
  },
  {
   "cell_type": "markdown",
   "metadata": {},
   "source": [
    "<hr/>\n",
    "## <span style=\"color:red\">Bonus: Contribute to dataprep</span>"
   ]
  },
  {
   "cell_type": "markdown",
   "metadata": {},
   "source": [
    "**Total Bonus: 0.2 + 0.3 = 0.5**\n",
    "\n",
    "1. If you create an issue (i.e., report a bug or request a feature) at [link1](https://github.com/sfu-db/dataprep/issues) or [link2](https://github.com/sfu-db/DataConnectorConfigs/issues), you will get **0.2** bonus points.\n",
    "\n",
    "2.  Creating more issues will *not* give you more bonus points, but you are encouraged to do so for learning more.\n",
    "\n",
    "2. If you send a pull request (i.e., fix a bug or implement a feature or add data connector for a new website) at [link1](https://github.com/sfu-db/dataprep/pulls) or [link2](https://github.com/sfu-db/DataConnectorConfigs/pulls) and the pull request gets merged into the repo, you will get **0.3** bonus points. \n",
    "\n",
    "4.  Sending more pull requests will *not* give you more bonus points, but you are encouraged to do so for learning more.\n",
    "\n",
    "5. These bonus points will be directly added to your final grade.\n",
    "\n",
    "\n",
    "\n",
    "\n",
    "\n",
    "\n",
    "**How to Submit**\n",
    "* Submit github link(s) to the CourSys activity `Bonus`.\n",
    "* Due on `March 15, 2020`\n",
    "\n",
    "If you love dataprep, please support it by simply clicking the **<span style=\"color:red\">Star</span>** on [Github](https://github.com/sfu-db/dataprep).\n",
    "<img src=\"dataprep-star.png\" width=\"1000\">"
   ]
  }
 ],
 "metadata": {
  "kernelspec": {
   "display_name": "Python 3",
   "language": "python",
   "name": "python3"
  },
  "language_info": {
   "codemirror_mode": {
    "name": "ipython",
    "version": 3
   },
   "file_extension": ".py",
   "mimetype": "text/x-python",
   "name": "python",
   "nbconvert_exporter": "python",
   "pygments_lexer": "ipython3",
   "version": "3.7.3"
  }
 },
 "nbformat": 4,
 "nbformat_minor": 1
}
